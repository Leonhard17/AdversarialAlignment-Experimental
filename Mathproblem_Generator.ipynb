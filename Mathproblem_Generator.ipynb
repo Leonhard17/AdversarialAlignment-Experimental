{
 "cells": [
  {
   "cell_type": "code",
   "execution_count": 5,
   "metadata": {},
   "outputs": [
    {
     "name": "stdout",
     "output_type": "stream",
     "text": [
      "Saved 40000 problems to math_problems.txt and solutions to math_solutions.txt\n"
     ]
    }
   ],
   "source": [
    "import random\n",
    "\n",
    "def generate_math_problems(num_problems=1000, operations=['+', '-', '*', '/'], max_value=100):\n",
    "    problems = []\n",
    "    solutions = []\n",
    "    for _ in range(num_problems):\n",
    "        a, b = random.randint(1, max_value), random.randint(1, max_value)\n",
    "        op = random.choice(operations)\n",
    "        \n",
    "        if op == '/':  # Ensure integer division results\n",
    "            a = a * b  # Make sure it divides cleanly\n",
    "            question = f\"{a} {op} {b}\"\n",
    "            answer = str(a // b)\n",
    "        else:\n",
    "            question = f\"{a} {op} {b}\"\n",
    "            answer = str(eval(question))\n",
    "            \n",
    "        # add = to the question\n",
    "        question += \" =\"\n",
    "        problems.append(question)\n",
    "        solutions.append(answer)\n",
    "    \n",
    "    return problems, solutions\n",
    "\n",
    "# Generate and save to separate files\n",
    "def save_problems_and_solutions(problem_filename=\"math_problems.txt\", solution_filename=\"math_solutions.txt\", num_problems=1000):\n",
    "    problems, solutions = generate_math_problems(num_problems)\n",
    "    \n",
    "    with open(problem_filename, \"w\") as f:\n",
    "        for problem in problems:\n",
    "            f.write(problem + \"\\n\")\n",
    "    \n",
    "    with open(solution_filename, \"w\") as f:\n",
    "        for solution in solutions:\n",
    "            f.write(solution + \"\\n\")\n",
    "    \n",
    "    print(f\"Saved {num_problems} problems to {problem_filename} and solutions to {solution_filename}\")\n",
    "\n",
    "# Example usage\n",
    "save_problems_and_solutions(\"math_problems.txt\", \"math_solutions.txt\", num_problems=40000)\n"
   ]
  }
 ],
 "metadata": {
  "kernelspec": {
   "display_name": "adverserialAlignment",
   "language": "python",
   "name": "python3"
  },
  "language_info": {
   "codemirror_mode": {
    "name": "ipython",
    "version": 3
   },
   "file_extension": ".py",
   "mimetype": "text/x-python",
   "name": "python",
   "nbconvert_exporter": "python",
   "pygments_lexer": "ipython3",
   "version": "3.12.7"
  }
 },
 "nbformat": 4,
 "nbformat_minor": 2
}
